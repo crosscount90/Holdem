{
 "cells": [
  {
   "cell_type": "code",
   "execution_count": 7,
   "metadata": {},
   "outputs": [
    {
     "name": "stdout",
     "output_type": "stream",
     "text": [
      "AB :  1.224744871391589\n",
      "AC :  1.1157956802210698\n",
      "AD :  1.3331916591398252\n",
      "AE :  1.2318279100588687\n",
      "1.2269384164732544\n"
     ]
    }
   ],
   "source": [
    "import numpy as np\n",
    "\n",
    "A = np.array([[0,0],[0,0]])\n",
    "B = np.array([[0.5, 0.5],[0.6, 0.8]])\n",
    "\n",
    "C = np.array([[0.5, 0.45], [0.55, 0.7]])\n",
    "D = np.array([[0.45, 0.55], [0.68, 0.9]])\n",
    "E = np.array([[0.55, 0.5], [0.57, 0.8]])\n",
    "\n",
    "# np.linalg.norm(HoleCards_preflop - HoleCards_preidct\n",
    "\n",
    "AB = np.linalg.norm(A-B)\n",
    "AC = np.linalg.norm(A-C)\n",
    "AD = np.linalg.norm(A-D)\n",
    "AE = np.linalg.norm(A-E)\n",
    "\n",
    "mean = (AC+AD+AE)/3\n",
    "\n",
    "print('AB : ', AB)\n",
    "\n",
    "print('AC : ', AC)\n",
    "print('AD : ', AD)\n",
    "print('AE : ', AE)\n",
    "print(mean)\n"
   ]
  }
 ],
 "metadata": {
  "kernelspec": {
   "display_name": "Python 3",
   "language": "python",
   "name": "python3"
  },
  "language_info": {
   "codemirror_mode": {
    "name": "ipython",
    "version": 3
   },
   "file_extension": ".py",
   "mimetype": "text/x-python",
   "name": "python",
   "nbconvert_exporter": "python",
   "pygments_lexer": "ipython3",
   "version": "3.11.7"
  }
 },
 "nbformat": 4,
 "nbformat_minor": 2
}
