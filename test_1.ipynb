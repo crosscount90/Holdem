{
 "cells": [
  {
   "cell_type": "code",
   "execution_count": 14,
   "metadata": {},
   "outputs": [],
   "source": [
    "import random"
   ]
  },
  {
   "cell_type": "code",
   "execution_count": 15,
   "metadata": {},
   "outputs": [],
   "source": [
    "# 카드 덱 초기화\n",
    "suits = ['Hearts', 'Diamonds', 'Clubs', 'Spades']\n",
    "ranks = ['Two', 'Three', 'Four', 'Five', 'Six', 'Seven', 'Eight', 'Nine', 'Ten', 'Jack', 'Queen', 'King', 'Ace']\n",
    "deck = [{'rank': rank, 'suit': suit} for rank in ranks for suit in suits]"
   ]
  },
  {
   "cell_type": "code",
   "execution_count": 16,
   "metadata": {},
   "outputs": [],
   "source": [
    "# 카드 섞기\n",
    "random.shuffle(deck)"
   ]
  },
  {
   "cell_type": "code",
   "execution_count": 17,
   "metadata": {},
   "outputs": [],
   "source": [
    "# 플레이어와 딜러 초기 패 설정\n",
    "player1_hand = [deck.pop(), deck.pop()]\n",
    "player2_hand = [deck.pop(), deck.pop()]"
   ]
  },
  {
   "cell_type": "code",
   "execution_count": 18,
   "metadata": {},
   "outputs": [],
   "source": [
    "# 커뮤니티 카드 초기화\n",
    "community_cards = [deck.pop() for _ in range(5)]"
   ]
  },
  {
   "cell_type": "code",
   "execution_count": 13,
   "metadata": {},
   "outputs": [
    {
     "name": "stdout",
     "output_type": "stream",
     "text": [
      "Hand 1 Rank: 9\n",
      "Hand 2 Rank: 8\n"
     ]
    }
   ],
   "source": [
    "def evaluate_hand(hand):\n",
    "    ranks = [card['rank'] for card in hand]\n",
    "    suits = [card['suit'] for card in hand]\n",
    "\n",
    "    rank_counts = {}\n",
    "    for rank in ranks:\n",
    "        if rank in rank_counts:\n",
    "            rank_counts[rank] += 1\n",
    "        else:\n",
    "            rank_counts[rank] = 1\n",
    "\n",
    "    # 카드 순위 정렬 (Ace는 14로 치환)\n",
    "    card_values = {'Two': 2, 'Three': 3, 'Four': 4, 'Five': 5, 'Six': 6, 'Seven': 7,\n",
    "                   'Eight': 8, 'Nine': 9, 'Ten': 10, 'Jack': 11, 'Queen': 12, 'King': 13, 'Ace': 14}\n",
    "    sorted_ranks = sorted(ranks, key=lambda x: card_values[x])\n",
    "\n",
    "    # 카드 모양 확인\n",
    "    flush = len(set(suits)) == 1\n",
    "\n",
    "    # 카드 순서 확인\n",
    "    straight = all(card_values[sorted_ranks[i]] == card_values[sorted_ranks[i - 1]] + 1 for i in range(1, len(sorted_ranks)))\n",
    "\n",
    "    # 패 평가 로직 시작\n",
    "    if flush and straight:\n",
    "        return 9  # 로열 스트레이트 플러시\n",
    "    elif any(rank_counts[rank] == 4 for rank in rank_counts):\n",
    "        return 8  # 포카드\n",
    "    elif any(rank_counts[rank] == 3 for rank in rank_counts) and any(rank_counts[rank] == 2 for rank in rank_counts):\n",
    "        return 7  # 풀 하우스\n",
    "    elif flush:\n",
    "        return 6  # 플러시\n",
    "    elif straight:\n",
    "        return 5  # 스트레이트\n",
    "    elif any(rank_counts[rank] == 3 for rank in rank_counts):\n",
    "        return 4  # 쓰리 오브 어 카인드\n",
    "    elif len(set(ranks)) == 2:\n",
    "        return 3  # 투 페어\n",
    "    elif any(rank_counts[rank] == 2 for rank in rank_counts):\n",
    "        return 2  # 원 페어\n",
    "    else:\n",
    "        return 1  # 하이 카드 (임의로 1 반환)\n",
    "\n",
    "# 이제 evaluate_hand 함수는 주어진 패를 평가하고 포커 순위를 반환합니다.\n",
    "\n",
    "# 예시 테스트\n",
    "hand1 = [{'rank': 'Ace', 'suit': 'Hearts'}, {'rank': 'King', 'suit': 'Hearts'}, {'rank': 'Queen', 'suit': 'Hearts'}, {'rank': 'Jack', 'suit': 'Hearts'}, {'rank': 'Ten', 'suit': 'Hearts'}]\n",
    "hand2 = [{'rank': 'Ten', 'suit': 'Hearts'}, {'rank': 'Ten', 'suit': 'Diamonds'}, {'rank': 'Ten', 'suit': 'Clubs'}, {'rank': 'Ten', 'suit': 'Spades'}, {'rank': 'Queen', 'suit': 'Hearts'}]\n",
    "\n",
    "print(\"Hand 1 Rank:\", evaluate_hand(hand1))\n",
    "print(\"Hand 2 Rank:\", evaluate_hand(hand2))\n"
   ]
  }
 ],
 "metadata": {
  "kernelspec": {
   "display_name": "Python 3",
   "language": "python",
   "name": "python3"
  },
  "language_info": {
   "codemirror_mode": {
    "name": "ipython",
    "version": 3
   },
   "file_extension": ".py",
   "mimetype": "text/x-python",
   "name": "python",
   "nbconvert_exporter": "python",
   "pygments_lexer": "ipython3",
   "version": "3.11.7"
  }
 },
 "nbformat": 4,
 "nbformat_minor": 2
}
