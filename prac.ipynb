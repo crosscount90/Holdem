{
 "cells": [
  {
   "cell_type": "code",
   "execution_count": 56,
   "metadata": {},
   "outputs": [],
   "source": [
    "# 파일에서 포커 핸드 데이터 읽기\n",
    "with open('poker_hands_test.txt', 'r') as file:\n",
    "    poker_hand_data = file.read()"
   ]
  },
  {
   "cell_type": "code",
   "execution_count": 70,
   "metadata": {},
   "outputs": [
    {
     "name": "stdout",
     "output_type": "stream",
     "text": [
      "['Seat 1: 13a066a4 ($4.2 in chips)', 'Seat 2: 87bb2e36 ($5 in chips)', 'Seat 3: e407d343 ($4.76 in chips)', 'Seat 4: fe238212 ($2.34 in chips)', 'Seat 5: 3f587bf6 ($18.19 in chips)', 'Seat 6: Hero ($10.31 in chips)']\n",
      "['Seat 1: Hero ($10.31 in chips)', 'Seat 2: c28bae97 ($5.58 in chips)', 'Seat 3: 42b8649c ($6.81 in chips)', 'Seat 4: 1dd8423b ($6.2 in chips)', 'Seat 5: e11b6f8f ($18.39 in chips)', 'Seat 6: 24921fc1 ($5.08 in chips)']\n",
      "['Seat 1: bef73bda ($5.69 in chips)', 'Seat 2: c4d14388 ($5.31 in chips)', 'Seat 3: 915714ab ($5.23 in chips)', 'Seat 4: Hero ($10.31 in chips)', 'Seat 5: f7d792af ($11.23 in chips)', 'Seat 6: 6d629bd ($13.61 in chips)']\n"
     ]
    }
   ],
   "source": [
    "# 포커 핸드 데이터를 줄 단위로 분할\n",
    "hand_data_list = [line.strip() for line in poker_hand_data.strip().split('\\n\\n')]\n",
    "hand_data_list\n",
    "\n",
    "for hand_data in hand_data_list:\n",
    "    \n",
    "    seat_info = hand_data.split('\\n')[2:8]\n",
    "    print(seat_info)\n"
   ]
  },
  {
   "cell_type": "code",
   "execution_count": 64,
   "metadata": {},
   "outputs": [
    {
     "data": {
      "text/plain": [
       "['Qh', 'Qc', '4c']"
      ]
     },
     "execution_count": 64,
     "metadata": {},
     "output_type": "execute_result"
    }
   ],
   "source": [
    "line = \"*** FLOP *** [Qh Qc 4c]\"\n",
    "\n",
    "community_cards = line.split('[')[1].split(']')[0].split()\n",
    "community_cards"
   ]
  },
  {
   "cell_type": "code",
   "execution_count": 71,
   "metadata": {},
   "outputs": [
    {
     "data": {
      "text/plain": [
       "['Hello_1', 'Hello_2', 'Hello_3']"
      ]
     },
     "execution_count": 71,
     "metadata": {},
     "output_type": "execute_result"
    }
   ],
   "source": [
    "Data=\"\"\"\n",
    "Hello_1\n",
    "\n",
    "\n",
    "Hello_2\n",
    "\n",
    "\n",
    "Hello_3\n",
    "\"\"\"\n",
    "\n",
    "Data_split = [line.strip() for line in Data.strip().split('\\n\\n')]\n",
    "Data_split"
   ]
  },
  {
   "cell_type": "code",
   "execution_count": 73,
   "metadata": {},
   "outputs": [
    {
     "name": "stdout",
     "output_type": "stream",
     "text": [
      "불일치율: 13.333333333333334\n"
     ]
    }
   ],
   "source": [
    "# 주어진 결과 빈도수\n",
    "actual_frequencies = [30, 30, 30, 10, 0, 0]\n",
    "\n",
    "# 기대 빈도수 (1/6 확률로 발생할 때)\n",
    "expected_frequencies = [100 * (1/6)] * 6\n",
    "\n",
    "# 불일치율 계산\n",
    "discrepancies = [abs(actual - expected) for actual, expected in zip(actual_frequencies, expected_frequencies)]\n",
    "average_discrepancy = sum(discrepancies) / len(discrepancies)\n",
    "\n",
    "print(\"불일치율:\", average_discrepancy)\n"
   ]
  },
  {
   "cell_type": "code",
   "execution_count": 77,
   "metadata": {},
   "outputs": [
    {
     "name": "stdout",
     "output_type": "stream",
     "text": [
      "표준 오차: 0.0\n",
      "전체 표준 오차: 0.3161361375831577\n"
     ]
    }
   ],
   "source": [
    "import numpy as np\n",
    "\n",
    "# 두 개의 2D NumPy 배열 생성 (예시)\n",
    "array1 = np.array([\n",
    "    [2, 0, 0, 0, 0, 0, 0, 0, 0, 0, 1, 0, 0],\n",
    "    [0, 0, 0, 0, 0, 0, 0, 0, 0, 0, 0, 0, 0],\n",
    "    [0, 0, 0, 0, 0, 0, 0, 0, 0, 0, 0, 0, 0],\n",
    "    [1, 0, 0, 0, 0, 0, 0, 0, 0, 0, 1, 0, 0],\n",
    "    [0, 0, 0, 0, 1, 0, 0, 0, 0, 0, 0, 0, 0],\n",
    "    [0, 0, 0, 0, 1, 0, 0, 0, 0, 0, 0, 0, 0],\n",
    "    [0, 0, 0, 0, 0, 0, 0, 0, 0, 0, 0, 0, 0],\n",
    "    [0, 1, 0, 1, 0, 0, 0, 0, 0, 0, 0, 0, 0],\n",
    "    [0, 0, 0, 0, 1, 0, 0, 0, 0, 0, 0, 0, 0],\n",
    "    [0, 0, 0, 0, 0, 0, 0, 0, 0, 0, 0, 0, 0],\n",
    "    [0, 0, 0, 0, 0, 0, 0, 0, 0, 0, 0, 0, 0],\n",
    "    [0, 0, 2, 1, 0, 0, 0, 0, 0, 0, 0, 0, 0],\n",
    "    [0, 0, 0, 0, 0, 0, 0, 0, 0, 1, 0, 0, 0]\n",
    "])\n",
    "\n",
    "array2 = np.array([\n",
    "    [2, 0, 0, 0, 0, 0, 0, 0, 0, 0, 1, 0, 0],\n",
    "    [0, 0, 0, 0, 0, 0, 0, 0, 0, 0, 0, 0, 0],\n",
    "    [0, 0, 0, 0, 0, 0, 0, 0, 0, 0, 0, 0, 0],\n",
    "    [1, 0, 0, 0, 0, 0, 0, 0, 0, 0, 1, 0, 0],\n",
    "    [0, 0, 0, 0, 1, 0, 0, 0, 0, 0, 0, 0, 0],\n",
    "    [0, 0, 0, 0, 1, 0, 0, 0, 0, 0, 0, 0, 0],\n",
    "    [0, 0, 0, 0, 0, 0, 0, 0, 0, 0, 0, 0, 0],\n",
    "    [0, 1, 0, 1, 0, 0, 0, 0, 0, 0, 0, 0, 0],\n",
    "    [0, 0, 0, 0, 1, 0, 0, 0, 0, 0, 0, 0, 0],\n",
    "    [0, 0, 0, 0, 0, 0, 0, 0, 0, 0, 0, 0, 0],\n",
    "    [0, 0, 0, 0, 0, 0, 0, 0, 0, 0, 0, 0, 0],\n",
    "    [0, 0, 2, 1, 0, 0, 0, 0, 0, 0, 0, 0, 0],\n",
    "    [0, 0, 0, 0, 0, 0, 0, 0, 0, 1, 0, 0, 0]\n",
    "])\n",
    "\n",
    "# 두 배열 간의 차이 계산\n",
    "diff = array1 - array2\n",
    "\n",
    "# 차이의 제곱 계산\n",
    "squared_diff = diff ** 2\n",
    "\n",
    "# 차이의 평균 계산\n",
    "mean_diff = np.mean(squared_diff)\n",
    "\n",
    "# 평균의 제곱근을 계산하여 표준 오차 구하기\n",
    "std_error = np.sqrt(mean_diff)\n",
    "\n",
    "# 결과 출력\n",
    "print(\"표준 오차:\", std_error)\n",
    "\n",
    "\n",
    "# 두 배열을 하나로 합치기\n",
    "combined_array = np.vstack((array1, array2))\n",
    "\n",
    "# 전체 표준 오차 계산\n",
    "total_std_error = np.std(combined_array, axis=None, ddof=1)\n",
    "\n",
    "# 결과 출력\n",
    "print(\"전체 표준 오차:\", total_std_error)"
   ]
  },
  {
   "cell_type": "code",
   "execution_count": 78,
   "metadata": {},
   "outputs": [
    {
     "name": "stdout",
     "output_type": "stream",
     "text": [
      "추출된 날짜: 2023/12/27 22:15:47\n"
     ]
    }
   ],
   "source": [
    "import re\n",
    "\n",
    "# 주어진 문자열\n",
    "input_string = \"Poker Hand #RC2094844442: Hold'em No Limit ($0.02/$0.05) - 2023/12/27 22:15:47\"\n",
    "\n",
    "# 날짜를 추출하기 위한 정규 표현식 패턴\n",
    "date_pattern = r\"\\d{4}/\\d{2}/\\d{2} \\d{2}:\\d{2}:\\d{2}\"\n",
    "\n",
    "# 정규 표현식을 사용하여 날짜 추출\n",
    "match = re.search(date_pattern, input_string)\n",
    "\n",
    "if match:\n",
    "    extracted_date = match.group()\n",
    "    print(\"추출된 날짜:\", extracted_date)\n",
    "else:\n",
    "    print(\"날짜를 찾을 수 없습니다.\")\n"
   ]
  },
  {
   "cell_type": "code",
   "execution_count": 11,
   "metadata": {},
   "outputs": [
    {
     "name": "stdout",
     "output_type": "stream",
     "text": [
      "Counter({5: 2, 3: 1, 7: 1, 8: 1})\n",
      "중복된 값: [5]\n"
     ]
    }
   ],
   "source": [
    "from collections import Counter\n",
    "\n",
    "hand_rank = [3, 5, 5, 7, 8]\n",
    "\n",
    "# Counter를 사용하여 리스트에서 중복된 값 추출\n",
    "counter = Counter(hand_rank)\n",
    "\n",
    "print(counter)\n",
    "# 중복된 값들을 리스트로 변환\n",
    "duplicates = [item for item, count in counter.items() if count > 1]\n",
    "\n",
    "print(\"중복된 값:\", duplicates)"
   ]
  }
 ],
 "metadata": {
  "kernelspec": {
   "display_name": "Python 3",
   "language": "python",
   "name": "python3"
  },
  "language_info": {
   "codemirror_mode": {
    "name": "ipython",
    "version": 3
   },
   "file_extension": ".py",
   "mimetype": "text/x-python",
   "name": "python",
   "nbconvert_exporter": "python",
   "pygments_lexer": "ipython3",
   "version": "3.11.7"
  }
 },
 "nbformat": 4,
 "nbformat_minor": 2
}
