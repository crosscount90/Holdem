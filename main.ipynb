{
 "cells": [
  {
   "cell_type": "code",
   "execution_count": 58,
   "metadata": {},
   "outputs": [],
   "source": [
    "# 파일에서 포커 핸드 데이터 읽기\n",
    "with open('poker_hands.txt', 'r') as file:\n",
    "    poker_hand_data = file.read()"
   ]
  },
  {
   "cell_type": "code",
   "execution_count": 112,
   "metadata": {},
   "outputs": [
    {
     "data": {
      "text/plain": [
       "\"Poker Hand #RC2094844442: Hold'em No Limit ($0.02/$0.05) - 2023/12/27 22:15:47\\nTable 'RushAndCash3836058' 6-max Seat #1 is the button\\nSeat 1: 13a066a4 ($4.2 in chips)\\nSeat 2: 87bb2e36 ($5 in chips)\\nSeat 3: e407d343 ($4.76 in chips)\\nSeat 4: fe238212 ($2.34 in chips)\\nSeat 5: 3f587bf6 ($18.19 in chips)\\nSeat 6: Hero ($10.31 in chips)\\n87bb2e36: posts small blind $0.02\\ne407d343: posts big blind $0.05\\n*** HOLE CARDS ***\\nDealt to 13a066a4 \\nDealt to 87bb2e36 \\nDealt to e407d343 \\nDealt to fe238212 \\nDealt to 3f587bf6 \\nDealt to Hero [As Ad]\\nfe238212: folds\\n3f587bf6: folds\\nHero: raises $0.05 to $0.1\\n13a066a4: raises $0.21 to $0.31\\n87bb2e36: folds\\ne407d343: folds\\nHero: raises $10 to $10.31 and is all-in\\n13a066a4: calls $3.89 and is all-in\\nUncalled bet ($6.11) returned to Hero\\nHero: shows [As Ad]\\n13a066a4: shows [Jc Jd]\\n*** FLOP *** [Qh Qc 4c]\\n*** TURN *** [Qh Qc 4c] [Kh]\\n*** RIVER *** [Qh Qc 4c Kh] [Qs]\\n*** SHOWDOWN ***\\nHero collected $8.25 from pot\\n*** SUMMARY ***\\nTotal pot $8.47 | Rake $0.15 | Jackpot $0.07 | Bingo $0 | Fortune $0 | Tax $0\\nBoard [Qh Qc 4c Kh Qs]\\nSeat 1: 13a066a4 (button) showed [Jc Jd] and lost with Queens Full over Jacks\\nSeat 2: 87bb2e36 (small blind) folded before Flop\\nSeat 3: e407d343 (big blind) folded before Flop\\nSeat 4: fe238212 folded before Flop (didn't bet)\\nSeat 5: 3f587bf6 folded before Flop (didn't bet)\\nSeat 6: Hero showed [As Ad] and won ($8.25) with Queens Full over Aces\""
      ]
     },
     "execution_count": 112,
     "metadata": {},
     "output_type": "execute_result"
    }
   ],
   "source": [
    "# 포커 핸드 데이터를 줄 단위로 분할\n",
    "hand_data_list = [line.strip() for line in poker_hand_data.strip().split('\\n\\n')]\n"
   ]
  },
  {
   "cell_type": "code",
   "execution_count": 92,
   "metadata": {},
   "outputs": [],
   "source": [
    "import re\n",
    "\n",
    "hero_hands = []\n",
    "\n",
    "# 각 포커 핸드 데이터에 대한 반복\n",
    "for hand_data in hand_data_list:\n",
    "\n",
    "    hand_date = hand_data.split('\\n')[0]\n",
    "\n",
    "    date_pattern = r\"\\d{4}/\\d{2}/\\d{2} \\d{2}:\\d{2}:\\d{2}\"\n",
    "\n",
    "    match = re.search(date_pattern, hand_date)\n",
    "\n",
    "    # 핸드 정보 파싱\n",
    "    hand_info = hand_data.split('\\n')[0]\n",
    "    table_info = hand_data.split('\\n')[1]\n",
    "    seat_info = hand_data.split('\\n')[2:8]\n",
    "\n",
    "    # 핸드 결과 파싱\n",
    "    community_cards = []\n",
    "    hero_hand = None\n",
    "    opponent_hand = None\n",
    "    pot_size = None\n",
    "\n",
    "    for line in hand_data.split('\\n'):\n",
    "        if \"Dealt to Hero\" in line:\n",
    "            hero_hand = line.split('[')[1].split(']')[0]\n",
    "            hero_hands.append(hero_hand)\n"
   ]
  },
  {
   "cell_type": "code",
   "execution_count": null,
   "metadata": {},
   "outputs": [],
   "source": []
  },
  {
   "cell_type": "code",
   "execution_count": 94,
   "metadata": {},
   "outputs": [],
   "source": [
    "import numpy as np\n",
    "\n",
    "HoleCardsOdds = np.genfromtxt('HoleCardsOdds.csv', delimiter=',', dtype=None, encoding='utf-8')\n"
   ]
  },
  {
   "cell_type": "code",
   "execution_count": 111,
   "metadata": {},
   "outputs": [
    {
     "name": "stdout",
     "output_type": "stream",
     "text": [
      "표준 오차: 0.003532336717135245\n"
     ]
    }
   ],
   "source": [
    "# 초기화된 배열 생성\n",
    "HoleCards = np.zeros((13, 13), dtype=int)\n",
    "\n",
    "rank_mapping = {'A': 0, 'K': 1, 'Q': 2, 'J': 3, 'T': 4, '9': 5, '8': 6, '7': 7, '6': 8, '5': 9, '4': 10, '3': 11, '2': 12}\n",
    "\n",
    "for hand in hero_hands:\n",
    "    cards = hand.split() # cards = ['As', 'Ad']\n",
    "    \n",
    "    rank1, rank2 = cards[0][0], cards[1][0]\n",
    "    suit1, suit2 = cards[0][1], cards[1][1]\n",
    "\n",
    "    if suit1 == suit2:\n",
    "        HoleCards[min(rank_mapping[rank1], rank_mapping[rank2]), max(rank_mapping[rank1], rank_mapping[rank2])] += 1\n",
    "    else:\n",
    "        HoleCards[max(rank_mapping[rank1], rank_mapping[rank2]), min(rank_mapping[rank1], rank_mapping[rank2])] += 1\n",
    "\n",
    "\n",
    "# \n",
    "HoleCards = np.divide(HoleCards, np.sum(HoleCards))\n",
    "\n",
    "# 두 배열 간의 차이 계산\n",
    "diff = HoleCardsOdds - HoleCards\n",
    "\n",
    "# 차이의 제곱 계산\n",
    "squared_diff = diff ** 2\n",
    "\n",
    "# 차이의 평균 계산\n",
    "mean_diff = np.mean(squared_diff)\n",
    "\n",
    "# 평균의 제곱근을 계산하여 표준 오차 구하기\n",
    "std_error = np.sqrt(mean_diff)\n",
    "\n",
    "# 결과 출력\n",
    "print(\"표준 오차:\", std_error)\n"
   ]
  }
 ],
 "metadata": {
  "kernelspec": {
   "display_name": "Python 3",
   "language": "python",
   "name": "python3"
  },
  "language_info": {
   "codemirror_mode": {
    "name": "ipython",
    "version": 3
   },
   "file_extension": ".py",
   "mimetype": "text/x-python",
   "name": "python",
   "nbconvert_exporter": "python",
   "pygments_lexer": "ipython3",
   "version": "3.11.7"
  }
 },
 "nbformat": 4,
 "nbformat_minor": 2
}
