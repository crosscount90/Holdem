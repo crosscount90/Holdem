{
 "cells": [
  {
   "cell_type": "code",
   "execution_count": 1,
   "metadata": {},
   "outputs": [
    {
     "data": {
      "text/plain": [
       "2598"
      ]
     },
     "execution_count": 1,
     "metadata": {},
     "output_type": "execute_result"
    }
   ],
   "source": [
    "import os\n",
    "\n",
    "# 읽은 파일 내용을 저장할 빈 리스트 생성\n",
    "poker_hand_data = []\n",
    "\n",
    "# 파일이 저장된 디렉토리 경로 설정\n",
    "directory_path = 'E:\\chatGPT\\Holdem\\HandData'\n",
    "\n",
    "# 디렉토리 내의 모든 파일에 대해 반복\n",
    "for filename in os.listdir(directory_path):\n",
    "    if filename.endswith('.txt'):  # 파일 확장자에 따라 필터링\n",
    "        file_path = os.path.join(directory_path, filename)\n",
    "        \n",
    "        # 파일을 읽어서 리스트에 추가\n",
    "        with open(file_path, 'r') as file:\n",
    "            file_contents = file.read()\n",
    "            poker_hand_data.append(file_contents)\n",
    "\n",
    "hand_data_list = []\n",
    "\n",
    "# 핸드데이터 정리\n",
    "for poker_hand in poker_hand_data:\n",
    "    hand_data = [line.strip() for line in poker_hand.strip().split('\\n\\n')]\n",
    "\n",
    "    hand_data_list = hand_data_list + hand_data\n",
    "\n",
    "len(hand_data_list)"
   ]
  },
  {
   "cell_type": "code",
   "execution_count": 2,
   "metadata": {},
   "outputs": [
    {
     "ename": "AttributeError",
     "evalue": "'list' object has no attribute 'strip'",
     "output_type": "error",
     "traceback": [
      "\u001b[1;31m---------------------------------------------------------------------------\u001b[0m",
      "\u001b[1;31mAttributeError\u001b[0m                            Traceback (most recent call last)",
      "Cell \u001b[1;32mIn[2], line 2\u001b[0m\n\u001b[0;32m      1\u001b[0m \u001b[38;5;66;03m# 포커 핸드 데이터를 줄 단위로 분할\u001b[39;00m\n\u001b[1;32m----> 2\u001b[0m hand_data_list \u001b[38;5;241m=\u001b[39m [line\u001b[38;5;241m.\u001b[39mstrip() \u001b[38;5;28;01mfor\u001b[39;00m line \u001b[38;5;129;01min\u001b[39;00m \u001b[43mpoker_hand_data\u001b[49m\u001b[38;5;241;43m.\u001b[39;49m\u001b[43mstrip\u001b[49m()\u001b[38;5;241m.\u001b[39msplit(\u001b[38;5;124m'\u001b[39m\u001b[38;5;130;01m\\n\u001b[39;00m\u001b[38;5;130;01m\\n\u001b[39;00m\u001b[38;5;124m'\u001b[39m)]\n",
      "\u001b[1;31mAttributeError\u001b[0m: 'list' object has no attribute 'strip'"
     ]
    }
   ],
   "source": [
    "# 포커 핸드 데이터를 줄 단위로 분할\n",
    "hand_data_list = [line.strip() for line in poker_hand_data.strip().split('\\n\\n')]"
   ]
  },
  {
   "cell_type": "code",
   "execution_count": 36,
   "metadata": {},
   "outputs": [
    {
     "name": "stdout",
     "output_type": "stream",
     "text": [
      "                    Date Hero Hand\n",
      "221  2023-12-21 23:01:59     2c 9c\n",
      "449  2023-12-21 23:02:00     Qh 5d\n",
      "220  2023-12-21 23:02:08     9c Qs\n",
      "448  2023-12-21 23:02:10     Jc 8h\n",
      "219  2023-12-21 23:02:16     5c 6d\n",
      "...                  ...       ...\n",
      "2109 2023-12-27 22:15:24     4h Jh\n",
      "2108 2023-12-27 22:15:28     5c 2d\n",
      "2107 2023-12-27 22:15:37     Jh 3d\n",
      "2106 2023-12-27 22:15:43     3d Qh\n",
      "2105 2023-12-27 22:15:47     As Ad\n",
      "\n",
      "[2598 rows x 2 columns]\n"
     ]
    }
   ],
   "source": [
    "import pandas as pd\n",
    "import re\n",
    "\n",
    "# DataFrame을 저장할 리스트\n",
    "hero_hands = []\n",
    "\n",
    "# 각 포커 핸드 데이터에 대한 반복\n",
    "for hand_data in hand_data_list:\n",
    "    hand_date = hand_data.split('\\n')[0]\n",
    "    \n",
    "    # 날짜를 추출하는 정규 표현식 패턴\n",
    "    date_pattern = r\"\\d{4}/\\d{2}/\\d{2} \\d{2}:\\d{2}:\\d{2}\"\n",
    "    \n",
    "    match = re.search(date_pattern, hand_date)\n",
    "    if match:\n",
    "        extracted_date = match.group()\n",
    "        \n",
    "        for line in hand_data.split('\\n'):\n",
    "            if \"Dealt to Hero\" in line:\n",
    "                hero_hand = line.split('[')[1].split(']')[0]\n",
    "                # 날짜와 hero_hand 값을 리스트에 추가\n",
    "                hero_hands.append([extracted_date, hero_hand])\n",
    "\n",
    "# DataFrame 생성\n",
    "df = pd.DataFrame(hero_hands, columns=['Date', 'Hero Hand'])\n",
    "\n",
    "# 'Date' 열을 datetime 자료형으로 변환\n",
    "df['Date'] = pd.to_datetime(df['Date'])\n",
    "\n",
    "# 날짜를 기준으로 DataFrame을 정렬\n",
    "df = df.sort_values(by='Date')\n",
    "\n",
    "# 정렬된 DataFrame 출력\n",
    "print(df)\n"
   ]
  },
  {
   "cell_type": "code",
   "execution_count": null,
   "metadata": {},
   "outputs": [],
   "source": []
  },
  {
   "cell_type": "code",
   "execution_count": 38,
   "metadata": {},
   "outputs": [],
   "source": [
    "import numpy as np\n",
    "\n",
    "HoleCardsOdds = np.genfromtxt('HoleCardsOdds.csv', delimiter=',', dtype=None, encoding='utf-8')\n"
   ]
  },
  {
   "cell_type": "code",
   "execution_count": 39,
   "metadata": {},
   "outputs": [
    {
     "name": "stdout",
     "output_type": "stream",
     "text": [
      "표준 오차: 0.0015339538413279086\n"
     ]
    }
   ],
   "source": [
    "# 초기화된 배열 생성\n",
    "HoleCards = np.zeros((13, 13), dtype=int)\n",
    "\n",
    "rank_mapping = {'A': 0, 'K': 1, 'Q': 2, 'J': 3, 'T': 4, '9': 5, '8': 6, '7': 7, '6': 8, '5': 9, '4': 10, '3': 11, '2': 12}\n",
    "\n",
    "hero_hands = df['Hero Hand']\n",
    "\n",
    "for hand in hero_hands:\n",
    "    cards = hand.split() # cards = ['As', 'Ad']\n",
    "    \n",
    "    rank1, rank2 = cards[0][0], cards[1][0]\n",
    "    suit1, suit2 = cards[0][1], cards[1][1]\n",
    "\n",
    "    if suit1 == suit2:\n",
    "        HoleCards[min(rank_mapping[rank1], rank_mapping[rank2]), max(rank_mapping[rank1], rank_mapping[rank2])] += 1\n",
    "    else:\n",
    "        HoleCards[max(rank_mapping[rank1], rank_mapping[rank2]), min(rank_mapping[rank1], rank_mapping[rank2])] += 1\n",
    "\n",
    "\n",
    "# \n",
    "HoleCards = np.divide(HoleCards, np.sum(HoleCards))\n",
    "\n",
    "# 두 배열 간의 차이 계산\n",
    "diff = HoleCardsOdds - HoleCards\n",
    "\n",
    "# 차이의 제곱 계산\n",
    "squared_diff = diff ** 2\n",
    "\n",
    "# 차이의 평균 계산\n",
    "mean_diff = np.mean(squared_diff)\n",
    "\n",
    "# 평균의 제곱근을 계산하여 표준 오차 구하기\n",
    "std_error = np.sqrt(mean_diff)\n",
    "\n",
    "# 결과 출력\n",
    "print(\"표준 오차:\", std_error)\n"
   ]
  }
 ],
 "metadata": {
  "kernelspec": {
   "display_name": "Python 3",
   "language": "python",
   "name": "python3"
  },
  "language_info": {
   "codemirror_mode": {
    "name": "ipython",
    "version": 3
   },
   "file_extension": ".py",
   "mimetype": "text/x-python",
   "name": "python",
   "nbconvert_exporter": "python",
   "pygments_lexer": "ipython3",
   "version": "3.11.7"
  }
 },
 "nbformat": 4,
 "nbformat_minor": 2
}
